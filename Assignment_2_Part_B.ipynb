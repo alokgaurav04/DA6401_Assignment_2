{
  "cells": [
    {
      "cell_type": "markdown",
      "metadata": {
        "id": "xvTrrZuk4NUV"
      },
      "source": [
        "# 🧪 Evaluate Best ResNet50 Sweep Model on Test Set"
      ]
    },
    {
      "cell_type": "code",
      "execution_count": 1,
      "metadata": {
        "id": "9U3Uwx3W4NUe"
      },
      "outputs": [],
      "source": [
        "import wandb\n",
        "import torch\n",
        "import torch.nn as nn\n",
        "import torchvision.models as models\n",
        "from torchvision import datasets, transforms\n",
        "from torch.utils.data import DataLoader\n",
        "import os, matplotlib.pyplot as plt\n",
        "import numpy as np"
      ]
    },
    {
      "cell_type": "code",
      "execution_count": null,
      "metadata": {
        "id": "IiHgEGVY4NUk"
      },
      "outputs": [],
      "source": [
        "best_run_id = \"alokgaurav04-indian-institute-of-technology-madras/inat-cnn-sweep/runs/6h0r51rw\"\n",
        "\n",
        "api = wandb.Api()\n",
        "run = api.run(best_run_id)\n",
        "model_file = run.file(f\"model_resnet50_{run.id}.pth\")\n",
        "model_file.download(replace=True)"
      ]
    },
    {
      "cell_type": "code",
      "execution_count": null,
      "metadata": {
        "id": "pJLl18qn4NUn"
      },
      "outputs": [],
      "source": [
        "# Load model\n",
        "def load_resnet50_finetune(num_classes, freeze_until=0):\n",
        "    model = models.resnet50(pretrained=True)\n",
        "    ct = 0\n",
        "    for child in model.children():\n",
        "        ct += 1\n",
        "        if ct <= freeze_until:\n",
        "            for param in child.parameters():\n",
        "                param.requires_grad = False\n",
        "    in_features = model.fc.in_features\n",
        "    model.fc = nn.Linear(in_features, num_classes)\n",
        "    return model"
      ]
    },
    {
      "cell_type": "code",
      "execution_count": null,
      "metadata": {
        "id": "joau-Rij4NUp"
      },
      "outputs": [],
      "source": [
        "# Set device and load model\n",
        "device = torch.device(\"cuda\" if torch.cuda.is_available() else \"cpu\")\n",
        "NUM_CLASSES = 10\n",
        "config = run.config\n",
        "best_model = load_resnet50_finetune(num_classes=NUM_CLASSES, freeze_until=config[\"freeze_until\"])\n",
        "best_model.load_state_dict(torch.load(f\"model_resnet50_{run.id}.pth\", map_location=device))\n",
        "best_model.to(device)\n",
        "best_model.eval()"
      ]
    },
    {
      "cell_type": "code",
      "execution_count": null,
      "metadata": {
        "id": "7YcLGz614NUr"
      },
      "outputs": [],
      "source": [
        "# Test loader setup\n",
        "DATA_DIR = \"/content/inaturalist_12K\"\n",
        "test_transforms = transforms.Compose([\n",
        "    transforms.Resize((224, 224)),\n",
        "    transforms.ToTensor()\n",
        "])\n",
        "test_dir = os.path.join(DATA_DIR, \"val\")\n",
        "test_dataset = datasets.ImageFolder(test_dir, transform=test_transforms)\n",
        "test_loader = DataLoader(test_dataset, batch_size=32, shuffle=False)"
      ]
    },
    {
      "cell_type": "code",
      "execution_count": null,
      "metadata": {
        "id": "2avd8i934NUt"
      },
      "outputs": [],
      "source": [
        "# Accuracy Evaluation\n",
        "correct, total = 0, 0\n",
        "with torch.no_grad():\n",
        "    for inputs, labels in test_loader:\n",
        "        inputs, labels = inputs.to(device), labels.to(device)\n",
        "        outputs = best_model(inputs)\n",
        "        _, preds = torch.max(outputs, 1)\n",
        "        correct += (preds == labels).sum().item()\n",
        "        total += labels.size(0)\n",
        "test_accuracy = correct / total\n",
        "print(f\"✅ Test Accuracy of Best Sweep Model: {test_accuracy * 100:.2f}%\")"
      ]
    },
    {
      "cell_type": "code",
      "execution_count": null,
      "metadata": {
        "id": "0P61OPf54NUv"
      },
      "outputs": [],
      "source": [
        "# Visualization Grid\n",
        "def imshow(inp, title=None):\n",
        "    inp = inp.cpu().numpy().transpose((1, 2, 0))\n",
        "    plt.imshow(inp)\n",
        "    plt.axis('off')\n",
        "    if title: plt.title(title, fontsize=8)\n",
        "\n",
        "inputs, labels = next(iter(test_loader))\n",
        "inputs, labels = inputs.to(device), labels.to(device)\n",
        "outputs = best_model(inputs)\n",
        "_, preds = torch.max(outputs, 1)\n",
        "classes = test_dataset.classes\n",
        "\n",
        "plt.figure(figsize=(20, 10))\n",
        "for i in range(30):\n",
        "    plt.subplot(10, 3, i + 1)\n",
        "    imshow(inputs[i])\n",
        "    plt.title(f\"Pred: {classes[preds[i]]}\\nTrue: {classes[labels[i]]}\", fontsize=8)\n",
        "plt.tight_layout()\n",
        "plt.show()"
      ]
    },
    {
      "cell_type": "code",
      "execution_count": null,
      "metadata": {
        "id": "NrBvyrEh4NUx"
      },
      "outputs": [],
      "source": [
        "# Confusion Matrix\n",
        "all_preds, all_labels = [], []\n",
        "with torch.no_grad():\n",
        "    for inputs, labels in test_loader:\n",
        "        inputs, labels = inputs.to(device), labels.to(device)\n",
        "        outputs = best_model(inputs)\n",
        "        _, preds = torch.max(outputs, 1)\n",
        "        all_preds.extend(preds.cpu().numpy())\n",
        "        all_labels.extend(labels.cpu().numpy())\n",
        "\n",
        "cm = confusion_matrix(all_labels, all_preds)\n",
        "plt.figure(figsize=(10, 8))\n",
        "sns.heatmap(cm, annot=True, fmt='d', cmap='Blues', xticklabels=classes, yticklabels=classes)\n",
        "plt.xlabel('Predicted')\n",
        "plt.ylabel('True')\n",
        "plt.title('Confusion Matrix')\n",
        "plt.xticks(rotation=45)\n",
        "plt.yticks(rotation=45)\n",
        "plt.tight_layout()\n",
        "plt.show()"
      ]
    }
  ],
  "metadata": {
    "kernelspec": {
      "display_name": "Python 3",
      "name": "python3"
    },
    "language_info": {
      "name": "python",
      "version": "3.11"
    },
    "colab": {
      "provenance": [],
      "gpuType": "T4"
    },
    "accelerator": "GPU"
  },
  "nbformat": 4,
  "nbformat_minor": 0
}